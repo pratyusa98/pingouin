{
 "cells": [
  {
   "cell_type": "markdown",
   "metadata": {},
   "source": [
    "# Pingouin\n",
    "\n",
    "- Pingouin is an open-source statistical package written in Python 3 and based mostly on Pandas and NumPy. Some of its main features are listed below. \n",
    "\n",
    "        1. ANOVAs: N-ways, repeated measures, mixed, ancova\n",
    "\n",
    "        2. Pairwise post-hocs tests (parametric and non-parametric) and pairwise correlations\n",
    "\n",
    "        3. Robust, partial, distance and repeated measures correlations\n",
    "\n",
    "        4. Linear/logistic regression and mediation analysis\n",
    "\n",
    "        5. Bayes Factors\n",
    "\n",
    "        6. Multivariate tests\n",
    "\n",
    "        7. Reliability and consistency\n",
    "\n",
    "        8. Effect sizes and power analysis\n",
    "\n",
    "        9. Parametric/bootstrapped confidence intervals around an effect size or a correlation coefficient\n",
    "\n",
    "        10. Circular statistics\n",
    "\n",
    "        11. Chi-squared tests\n",
    "\n",
    "        12. Plotting: Bland-Altman plot, Q-Q plot, paired plot, robust correlation…"
   ]
  },
  {
   "cell_type": "code",
   "execution_count": 1,
   "metadata": {},
   "outputs": [
    {
     "name": "stdout",
     "output_type": "stream",
     "text": [
      "Collecting pingouin\n",
      "  Downloading pingouin-0.3.11.tar.gz (204 kB)\n",
      "Requirement already satisfied: numpy>=1.15 in c:\\users\\dell\\appdata\\roaming\\python\\python37\\site-packages (from pingouin) (1.19.5)\n",
      "Requirement already satisfied: scipy>=1.3 in c:\\users\\dell\\appdata\\roaming\\python\\python37\\site-packages (from pingouin) (1.6.0)\n",
      "Requirement already satisfied: pandas>=0.24 in c:\\users\\dell\\appdata\\roaming\\python\\python37\\site-packages (from pingouin) (0.24.2)\n",
      "Requirement already satisfied: matplotlib>=3.0.2 in c:\\users\\dell\\appdata\\roaming\\python\\python37\\site-packages (from pingouin) (3.3.4)\n",
      "Requirement already satisfied: seaborn>=0.9.0 in c:\\users\\dell\\appdata\\roaming\\python\\python37\\site-packages (from pingouin) (0.11.1)\n",
      "Requirement already satisfied: statsmodels>=0.10.0 in c:\\programdata\\anaconda3\\lib\\site-packages (from pingouin) (0.11.0)\n",
      "Requirement already satisfied: scikit-learn in c:\\users\\dell\\appdata\\roaming\\python\\python37\\site-packages (from pingouin) (0.24.0)\n",
      "Collecting pandas_flavor>=0.1.2\n",
      "  Downloading pandas_flavor-0.2.0-py2.py3-none-any.whl (6.6 kB)\n",
      "Collecting outdated\n",
      "  Downloading outdated-0.2.1-py3-none-any.whl (7.5 kB)\n",
      "Requirement already satisfied: tabulate in c:\\users\\dell\\appdata\\roaming\\python\\python37\\site-packages (from pingouin) (0.8.7)\n",
      "Requirement already satisfied: pytz>=2011k in c:\\programdata\\anaconda3\\lib\\site-packages (from pandas>=0.24->pingouin) (2019.3)\n",
      "Requirement already satisfied: python-dateutil>=2.5.0 in c:\\programdata\\anaconda3\\lib\\site-packages (from pandas>=0.24->pingouin) (2.8.1)\n",
      "Requirement already satisfied: pillow>=6.2.0 in c:\\users\\dell\\appdata\\roaming\\python\\python37\\site-packages (from matplotlib>=3.0.2->pingouin) (8.1.0)\n",
      "Requirement already satisfied: pyparsing!=2.0.4,!=2.1.2,!=2.1.6,>=2.0.3 in c:\\programdata\\anaconda3\\lib\\site-packages (from matplotlib>=3.0.2->pingouin) (2.4.6)\n",
      "Requirement already satisfied: cycler>=0.10 in c:\\programdata\\anaconda3\\lib\\site-packages (from matplotlib>=3.0.2->pingouin) (0.10.0)\n",
      "Requirement already satisfied: kiwisolver>=1.0.1 in c:\\programdata\\anaconda3\\lib\\site-packages (from matplotlib>=3.0.2->pingouin) (1.1.0)\n",
      "Requirement already satisfied: patsy>=0.5 in c:\\programdata\\anaconda3\\lib\\site-packages (from statsmodels>=0.10.0->pingouin) (0.5.1)\n",
      "Requirement already satisfied: joblib>=0.11 in c:\\programdata\\anaconda3\\lib\\site-packages (from scikit-learn->pingouin) (0.14.1)\n",
      "Requirement already satisfied: threadpoolctl>=2.0.0 in c:\\programdata\\anaconda3\\lib\\site-packages (from scikit-learn->pingouin) (2.1.0)\n",
      "Collecting xarray\n",
      "  Downloading xarray-0.17.0-py3-none-any.whl (759 kB)\n",
      "Collecting littleutils\n",
      "  Downloading littleutils-0.2.2.tar.gz (6.6 kB)\n",
      "Requirement already satisfied: requests in c:\\users\\dell\\appdata\\roaming\\python\\python37\\site-packages (from outdated->pingouin) (2.25.1)\n",
      "Requirement already satisfied: six>=1.5 in c:\\users\\dell\\appdata\\roaming\\python\\python37\\site-packages (from python-dateutil>=2.5.0->pandas>=0.24->pingouin) (1.12.0)\n",
      "Requirement already satisfied: setuptools in c:\\programdata\\anaconda3\\lib\\site-packages (from kiwisolver>=1.0.1->matplotlib>=3.0.2->pingouin) (45.2.0.post20200210)\n",
      "Requirement already satisfied: urllib3<1.27,>=1.21.1 in c:\\programdata\\anaconda3\\lib\\site-packages (from requests->outdated->pingouin) (1.25.8)\n",
      "Requirement already satisfied: chardet<5,>=3.0.2 in c:\\programdata\\anaconda3\\lib\\site-packages (from requests->outdated->pingouin) (3.0.4)\n",
      "Requirement already satisfied: idna<3,>=2.5 in c:\\programdata\\anaconda3\\lib\\site-packages (from requests->outdated->pingouin) (2.8)\n",
      "Requirement already satisfied: certifi>=2017.4.17 in c:\\programdata\\anaconda3\\lib\\site-packages (from requests->outdated->pingouin) (2019.11.28)\n",
      "Building wheels for collected packages: pingouin, littleutils\n",
      "  Building wheel for pingouin (setup.py): started\n",
      "  Building wheel for pingouin (setup.py): finished with status 'done'\n",
      "  Created wheel for pingouin: filename=pingouin-0.3.11-py3-none-any.whl size=203323 sha256=b6698734317a92e88d5f566854199b53848531ef8cd52340a86429468c3db0ca\n",
      "  Stored in directory: c:\\users\\dell\\appdata\\local\\pip\\cache\\wheels\\74\\6d\\d2\\9320ff7695f6983f4394c10630792f4bd4c8351facfd39b649\n",
      "  Building wheel for littleutils (setup.py): started\n",
      "  Building wheel for littleutils (setup.py): finished with status 'done'\n",
      "  Created wheel for littleutils: filename=littleutils-0.2.2-py3-none-any.whl size=7048 sha256=19adffaa8ab2ff858f0c32766300a90779b8904d0ff49e4af178858ab388aa05\n",
      "  Stored in directory: c:\\users\\dell\\appdata\\local\\pip\\cache\\wheels\\d6\\64\\cd\\32819b511a488e4993f2fab909a95330289c3f4e0f6ef4676d\n",
      "Successfully built pingouin littleutils\n",
      "Installing collected packages: xarray, pandas-flavor, littleutils, outdated, pingouin\n",
      "Successfully installed littleutils-0.2.2 outdated-0.2.1 pandas-flavor-0.2.0 pingouin-0.3.11 xarray-0.17.0\n"
     ]
    },
    {
     "name": "stderr",
     "output_type": "stream",
     "text": [
      "ERROR: xarray 0.17.0 has requirement pandas>=0.25, but you'll have pandas 0.24.2 which is incompatible.\n"
     ]
    }
   ],
   "source": [
    "! pip install pingouin"
   ]
  },
  {
   "cell_type": "markdown",
   "metadata": {},
   "source": [
    "# 1. T-test"
   ]
  },
  {
   "cell_type": "code",
   "execution_count": 2,
   "metadata": {},
   "outputs": [
    {
     "data": {
      "text/html": [
       "<div>\n",
       "<style scoped>\n",
       "    .dataframe tbody tr th:only-of-type {\n",
       "        vertical-align: middle;\n",
       "    }\n",
       "\n",
       "    .dataframe tbody tr th {\n",
       "        vertical-align: top;\n",
       "    }\n",
       "\n",
       "    .dataframe thead th {\n",
       "        text-align: right;\n",
       "    }\n",
       "</style>\n",
       "<table border=\"1\" class=\"dataframe\">\n",
       "  <thead>\n",
       "    <tr style=\"text-align: right;\">\n",
       "      <th></th>\n",
       "      <th>T</th>\n",
       "      <th>dof</th>\n",
       "      <th>tail</th>\n",
       "      <th>p-val</th>\n",
       "      <th>CI95%</th>\n",
       "      <th>cohen-d</th>\n",
       "      <th>BF10</th>\n",
       "      <th>power</th>\n",
       "    </tr>\n",
       "  </thead>\n",
       "  <tbody>\n",
       "    <tr>\n",
       "      <th>T-test</th>\n",
       "      <td>-3.400706</td>\n",
       "      <td>58</td>\n",
       "      <td>two-sided</td>\n",
       "      <td>0.001222</td>\n",
       "      <td>[-1.68, -0.43]</td>\n",
       "      <td>0.878059</td>\n",
       "      <td>26.155</td>\n",
       "      <td>0.916807</td>\n",
       "    </tr>\n",
       "  </tbody>\n",
       "</table>\n",
       "</div>"
      ],
      "text/plain": [
       "               T  dof       tail     p-val           CI95%   cohen-d    BF10  \\\n",
       "T-test -3.400706   58  two-sided  0.001222  [-1.68, -0.43]  0.878059  26.155   \n",
       "\n",
       "           power  \n",
       "T-test  0.916807  "
      ]
     },
     "execution_count": 2,
     "metadata": {},
     "output_type": "execute_result"
    }
   ],
   "source": [
    "import numpy as np\n",
    "import pingouin as pg\n",
    "\n",
    "np.random.seed(123)\n",
    "mean, cov, n = [4, 5], [(1, .6), (.6, 1)], 30\n",
    "\n",
    "x, y = np.random.multivariate_normal(mean, cov, n).T\n",
    "\n",
    "# T-test\n",
    "pg.ttest(x, y)"
   ]
  },
  {
   "cell_type": "markdown",
   "metadata": {},
   "source": [
    "# 2. Pearson’s correlation"
   ]
  },
  {
   "cell_type": "code",
   "execution_count": 3,
   "metadata": {},
   "outputs": [
    {
     "data": {
      "text/html": [
       "<div>\n",
       "<style scoped>\n",
       "    .dataframe tbody tr th:only-of-type {\n",
       "        vertical-align: middle;\n",
       "    }\n",
       "\n",
       "    .dataframe tbody tr th {\n",
       "        vertical-align: top;\n",
       "    }\n",
       "\n",
       "    .dataframe thead th {\n",
       "        text-align: right;\n",
       "    }\n",
       "</style>\n",
       "<table border=\"1\" class=\"dataframe\">\n",
       "  <thead>\n",
       "    <tr style=\"text-align: right;\">\n",
       "      <th></th>\n",
       "      <th>n</th>\n",
       "      <th>r</th>\n",
       "      <th>CI95%</th>\n",
       "      <th>r2</th>\n",
       "      <th>adj_r2</th>\n",
       "      <th>p-val</th>\n",
       "      <th>BF10</th>\n",
       "      <th>power</th>\n",
       "    </tr>\n",
       "  </thead>\n",
       "  <tbody>\n",
       "    <tr>\n",
       "      <th>pearson</th>\n",
       "      <td>30</td>\n",
       "      <td>0.594785</td>\n",
       "      <td>[0.3, 0.79]</td>\n",
       "      <td>0.353769</td>\n",
       "      <td>0.3059</td>\n",
       "      <td>0.000527</td>\n",
       "      <td>69.723</td>\n",
       "      <td>0.950373</td>\n",
       "    </tr>\n",
       "  </tbody>\n",
       "</table>\n",
       "</div>"
      ],
      "text/plain": [
       "          n         r        CI95%        r2  adj_r2     p-val    BF10  \\\n",
       "pearson  30  0.594785  [0.3, 0.79]  0.353769  0.3059  0.000527  69.723   \n",
       "\n",
       "            power  \n",
       "pearson  0.950373  "
      ]
     },
     "execution_count": 3,
     "metadata": {},
     "output_type": "execute_result"
    }
   ],
   "source": [
    "pg.corr(x, y)"
   ]
  },
  {
   "cell_type": "markdown",
   "metadata": {},
   "source": [
    "# 3. Test the normality of the data"
   ]
  },
  {
   "cell_type": "code",
   "execution_count": 4,
   "metadata": {},
   "outputs": [
    {
     "name": "stdout",
     "output_type": "stream",
     "text": [
      "          W      pval  normal\n",
      "0  0.985831  0.950477    True\n",
      "HZResults(hz=0.32439653736062, pval=0.7523511059223205, normal=True)\n"
     ]
    }
   ],
   "source": [
    "print(pg.normality(x))                                    # Univariate normality\n",
    "print(pg.multivariate_normality(np.column_stack((x, y)))) # Multivariate normality"
   ]
  },
  {
   "cell_type": "markdown",
   "metadata": {},
   "source": [
    "# 4. Q-Q plot"
   ]
  },
  {
   "cell_type": "code",
   "execution_count": 5,
   "metadata": {},
   "outputs": [
    {
     "data": {
      "image/png": "[encoded data removed]",
      "text/plain": [
       "<Figure size 360x288 with 1 Axes>"
      ]
     },
     "metadata": {
      "needs_background": "light"
     },
     "output_type": "display_data"
    }
   ],
   "source": [
    "np.random.seed(123)\n",
    "x = np.random.normal(size=50)\n",
    "ax = pg.qqplot(x, dist='norm')"
   ]
  },
  {
   "cell_type": "markdown",
   "metadata": {},
   "source": [
    "# Anova\n",
    "\n",
    "## One-way ANOVA"
   ]
  },
  {
   "cell_type": "code",
   "execution_count": 6,
   "metadata": {},
   "outputs": [
    {
     "name": "stdout",
     "output_type": "stream",
     "text": [
      "   Source          SS   DF        MS         F   p-unc       np2\n",
      "0   Group    5.459963    1  5.459963  5.243656  0.0232  0.028616\n",
      "1  Within  185.342729  178  1.041251       NaN     NaN       NaN\n"
     ]
    }
   ],
   "source": [
    "# Read an example dataset\n",
    "df = pg.read_dataset('mixed_anova')\n",
    "\n",
    "# Run the ANOVA\n",
    "aov = pg.anova(data=df, dv='Scores', between='Group', detailed=True)\n",
    "print(aov)"
   ]
  },
  {
   "cell_type": "markdown",
   "metadata": {},
   "source": [
    "## Repeated measures ANOVA"
   ]
  },
  {
   "cell_type": "code",
   "execution_count": 7,
   "metadata": {},
   "outputs": [
    {
     "data": {
      "text/html": [
       "<div>\n",
       "<style scoped>\n",
       "    .dataframe tbody tr th:only-of-type {\n",
       "        vertical-align: middle;\n",
       "    }\n",
       "\n",
       "    .dataframe tbody tr th {\n",
       "        vertical-align: top;\n",
       "    }\n",
       "\n",
       "    .dataframe thead th {\n",
       "        text-align: right;\n",
       "    }\n",
       "</style>\n",
       "<table border=\"1\" class=\"dataframe\">\n",
       "  <thead>\n",
       "    <tr style=\"text-align: right;\">\n",
       "      <th></th>\n",
       "      <th>Source</th>\n",
       "      <th>SS</th>\n",
       "      <th>DF</th>\n",
       "      <th>MS</th>\n",
       "      <th>F</th>\n",
       "      <th>p-unc</th>\n",
       "      <th>np2</th>\n",
       "      <th>eps</th>\n",
       "    </tr>\n",
       "  </thead>\n",
       "  <tbody>\n",
       "    <tr>\n",
       "      <th>0</th>\n",
       "      <td>Time</td>\n",
       "      <td>7.628428</td>\n",
       "      <td>2</td>\n",
       "      <td>3.814214</td>\n",
       "      <td>3.912796</td>\n",
       "      <td>0.022629</td>\n",
       "      <td>0.062194</td>\n",
       "      <td>0.998751</td>\n",
       "    </tr>\n",
       "    <tr>\n",
       "      <th>1</th>\n",
       "      <td>Error</td>\n",
       "      <td>115.027023</td>\n",
       "      <td>118</td>\n",
       "      <td>0.974805</td>\n",
       "      <td>NaN</td>\n",
       "      <td>NaN</td>\n",
       "      <td>NaN</td>\n",
       "      <td>NaN</td>\n",
       "    </tr>\n",
       "  </tbody>\n",
       "</table>\n",
       "</div>"
      ],
      "text/plain": [
       "  Source          SS   DF        MS         F     p-unc       np2       eps\n",
       "0   Time    7.628428    2  3.814214  3.912796  0.022629  0.062194  0.998751\n",
       "1  Error  115.027023  118  0.974805       NaN       NaN       NaN       NaN"
      ]
     },
     "execution_count": 7,
     "metadata": {},
     "output_type": "execute_result"
    }
   ],
   "source": [
    "pg.rm_anova(data=df, dv='Scores', within='Time', subject='Subject', detailed=True)"
   ]
  },
  {
   "cell_type": "markdown",
   "metadata": {},
   "source": [
    "## Two-way mixed ANOVA"
   ]
  },
  {
   "cell_type": "code",
   "execution_count": 8,
   "metadata": {},
   "outputs": [
    {
     "name": "stdout",
     "output_type": "stream",
     "text": [
      "\n",
      "=============\n",
      "ANOVA SUMMARY\n",
      "=============\n",
      "\n",
      "Source          SS    DF1    DF2     MS      F    p-unc    np2      eps\n",
      "-----------  -----  -----  -----  -----  -----  -------  -----  -------\n",
      "Group        5.460      1     58  5.460  5.052    0.028  0.080  nan\n",
      "Time         7.628      2    116  3.814  4.027    0.020  0.065    0.999\n",
      "Interaction  5.167      2    116  2.584  2.728    0.070  0.045  nan\n",
      "\n"
     ]
    }
   ],
   "source": [
    "# Compute the two-way mixed ANOVA and export to a .csv file\n",
    "aov = pg.mixed_anova(data=df, dv='Scores', between='Group', within='Time',\n",
    "                     subject='Subject', correction=False, effsize=\"np2\")\n",
    "pg.print_table(aov)"
   ]
  },
  {
   "cell_type": "markdown",
   "metadata": {},
   "source": [
    "#  Multiple linear regression"
   ]
  },
  {
   "cell_type": "markdown",
   "metadata": {},
   "source": [
    "## Boston housing dataset"
   ]
  },
  {
   "cell_type": "code",
   "execution_count": 9,
   "metadata": {},
   "outputs": [],
   "source": [
    "\n",
    "from sklearn.datasets import load_boston\n",
    "\n",
    "X, y = load_boston(return_X_y=True)"
   ]
  },
  {
   "cell_type": "code",
   "execution_count": 10,
   "metadata": {},
   "outputs": [
    {
     "data": {
      "text/html": [
       "<div>\n",
       "<style scoped>\n",
       "    .dataframe tbody tr th:only-of-type {\n",
       "        vertical-align: middle;\n",
       "    }\n",
       "\n",
       "    .dataframe tbody tr th {\n",
       "        vertical-align: top;\n",
       "    }\n",
       "\n",
       "    .dataframe thead th {\n",
       "        text-align: right;\n",
       "    }\n",
       "</style>\n",
       "<table border=\"1\" class=\"dataframe\">\n",
       "  <thead>\n",
       "    <tr style=\"text-align: right;\">\n",
       "      <th></th>\n",
       "      <th>names</th>\n",
       "      <th>coef</th>\n",
       "      <th>se</th>\n",
       "      <th>T</th>\n",
       "      <th>pval</th>\n",
       "      <th>r2</th>\n",
       "      <th>adj_r2</th>\n",
       "      <th>CI[2.5%]</th>\n",
       "      <th>CI[97.5%]</th>\n",
       "    </tr>\n",
       "  </thead>\n",
       "  <tbody>\n",
       "    <tr>\n",
       "      <th>0</th>\n",
       "      <td>Intercept</td>\n",
       "      <td>36.459488</td>\n",
       "      <td>5.103459</td>\n",
       "      <td>7.144074</td>\n",
       "      <td>3.283439e-12</td>\n",
       "      <td>0.740643</td>\n",
       "      <td>0.73379</td>\n",
       "      <td>26.432226</td>\n",
       "      <td>46.486751</td>\n",
       "    </tr>\n",
       "    <tr>\n",
       "      <th>1</th>\n",
       "      <td>x1</td>\n",
       "      <td>-0.108011</td>\n",
       "      <td>0.032865</td>\n",
       "      <td>-3.286517</td>\n",
       "      <td>1.086810e-03</td>\n",
       "      <td>0.740643</td>\n",
       "      <td>0.73379</td>\n",
       "      <td>-0.172584</td>\n",
       "      <td>-0.043438</td>\n",
       "    </tr>\n",
       "    <tr>\n",
       "      <th>2</th>\n",
       "      <td>x2</td>\n",
       "      <td>0.046420</td>\n",
       "      <td>0.013727</td>\n",
       "      <td>3.381576</td>\n",
       "      <td>7.781097e-04</td>\n",
       "      <td>0.740643</td>\n",
       "      <td>0.73379</td>\n",
       "      <td>0.019449</td>\n",
       "      <td>0.073392</td>\n",
       "    </tr>\n",
       "    <tr>\n",
       "      <th>3</th>\n",
       "      <td>x3</td>\n",
       "      <td>0.020559</td>\n",
       "      <td>0.061496</td>\n",
       "      <td>0.334310</td>\n",
       "      <td>7.382881e-01</td>\n",
       "      <td>0.740643</td>\n",
       "      <td>0.73379</td>\n",
       "      <td>-0.100268</td>\n",
       "      <td>0.141385</td>\n",
       "    </tr>\n",
       "    <tr>\n",
       "      <th>4</th>\n",
       "      <td>x4</td>\n",
       "      <td>2.686734</td>\n",
       "      <td>0.861580</td>\n",
       "      <td>3.118381</td>\n",
       "      <td>1.925030e-03</td>\n",
       "      <td>0.740643</td>\n",
       "      <td>0.73379</td>\n",
       "      <td>0.993904</td>\n",
       "      <td>4.379563</td>\n",
       "    </tr>\n",
       "    <tr>\n",
       "      <th>5</th>\n",
       "      <td>x5</td>\n",
       "      <td>-17.766611</td>\n",
       "      <td>3.819744</td>\n",
       "      <td>-4.651257</td>\n",
       "      <td>4.245644e-06</td>\n",
       "      <td>0.740643</td>\n",
       "      <td>0.73379</td>\n",
       "      <td>-25.271634</td>\n",
       "      <td>-10.261589</td>\n",
       "    </tr>\n",
       "    <tr>\n",
       "      <th>6</th>\n",
       "      <td>x6</td>\n",
       "      <td>3.809865</td>\n",
       "      <td>0.417925</td>\n",
       "      <td>9.116140</td>\n",
       "      <td>1.979441e-18</td>\n",
       "      <td>0.740643</td>\n",
       "      <td>0.73379</td>\n",
       "      <td>2.988727</td>\n",
       "      <td>4.631004</td>\n",
       "    </tr>\n",
       "    <tr>\n",
       "      <th>7</th>\n",
       "      <td>x7</td>\n",
       "      <td>0.000692</td>\n",
       "      <td>0.013210</td>\n",
       "      <td>0.052402</td>\n",
       "      <td>9.582293e-01</td>\n",
       "      <td>0.740643</td>\n",
       "      <td>0.73379</td>\n",
       "      <td>-0.025262</td>\n",
       "      <td>0.026647</td>\n",
       "    </tr>\n",
       "    <tr>\n",
       "      <th>8</th>\n",
       "      <td>x8</td>\n",
       "      <td>-1.475567</td>\n",
       "      <td>0.199455</td>\n",
       "      <td>-7.398004</td>\n",
       "      <td>6.013491e-13</td>\n",
       "      <td>0.740643</td>\n",
       "      <td>0.73379</td>\n",
       "      <td>-1.867455</td>\n",
       "      <td>-1.083679</td>\n",
       "    </tr>\n",
       "    <tr>\n",
       "      <th>9</th>\n",
       "      <td>x9</td>\n",
       "      <td>0.306049</td>\n",
       "      <td>0.066346</td>\n",
       "      <td>4.612900</td>\n",
       "      <td>5.070529e-06</td>\n",
       "      <td>0.740643</td>\n",
       "      <td>0.73379</td>\n",
       "      <td>0.175692</td>\n",
       "      <td>0.436407</td>\n",
       "    </tr>\n",
       "    <tr>\n",
       "      <th>10</th>\n",
       "      <td>x10</td>\n",
       "      <td>-0.012335</td>\n",
       "      <td>0.003761</td>\n",
       "      <td>-3.280009</td>\n",
       "      <td>1.111637e-03</td>\n",
       "      <td>0.740643</td>\n",
       "      <td>0.73379</td>\n",
       "      <td>-0.019723</td>\n",
       "      <td>-0.004946</td>\n",
       "    </tr>\n",
       "    <tr>\n",
       "      <th>11</th>\n",
       "      <td>x11</td>\n",
       "      <td>-0.952747</td>\n",
       "      <td>0.130827</td>\n",
       "      <td>-7.282511</td>\n",
       "      <td>1.308835e-12</td>\n",
       "      <td>0.740643</td>\n",
       "      <td>0.73379</td>\n",
       "      <td>-1.209795</td>\n",
       "      <td>-0.695699</td>\n",
       "    </tr>\n",
       "    <tr>\n",
       "      <th>12</th>\n",
       "      <td>x12</td>\n",
       "      <td>0.009312</td>\n",
       "      <td>0.002686</td>\n",
       "      <td>3.466793</td>\n",
       "      <td>5.728592e-04</td>\n",
       "      <td>0.740643</td>\n",
       "      <td>0.73379</td>\n",
       "      <td>0.004034</td>\n",
       "      <td>0.014589</td>\n",
       "    </tr>\n",
       "    <tr>\n",
       "      <th>13</th>\n",
       "      <td>x13</td>\n",
       "      <td>-0.524758</td>\n",
       "      <td>0.050715</td>\n",
       "      <td>-10.347146</td>\n",
       "      <td>7.776912e-23</td>\n",
       "      <td>0.740643</td>\n",
       "      <td>0.73379</td>\n",
       "      <td>-0.624404</td>\n",
       "      <td>-0.425113</td>\n",
       "    </tr>\n",
       "  </tbody>\n",
       "</table>\n",
       "</div>"
      ],
      "text/plain": [
       "        names       coef        se          T          pval        r2  \\\n",
       "0   Intercept  36.459488  5.103459   7.144074  3.283439e-12  0.740643   \n",
       "1          x1  -0.108011  0.032865  -3.286517  1.086810e-03  0.740643   \n",
       "2          x2   0.046420  0.013727   3.381576  7.781097e-04  0.740643   \n",
       "3          x3   0.020559  0.061496   0.334310  7.382881e-01  0.740643   \n",
       "4          x4   2.686734  0.861580   3.118381  1.925030e-03  0.740643   \n",
       "5          x5 -17.766611  3.819744  -4.651257  4.245644e-06  0.740643   \n",
       "6          x6   3.809865  0.417925   9.116140  1.979441e-18  0.740643   \n",
       "7          x7   0.000692  0.013210   0.052402  9.582293e-01  0.740643   \n",
       "8          x8  -1.475567  0.199455  -7.398004  6.013491e-13  0.740643   \n",
       "9          x9   0.306049  0.066346   4.612900  5.070529e-06  0.740643   \n",
       "10        x10  -0.012335  0.003761  -3.280009  1.111637e-03  0.740643   \n",
       "11        x11  -0.952747  0.130827  -7.282511  1.308835e-12  0.740643   \n",
       "12        x12   0.009312  0.002686   3.466793  5.728592e-04  0.740643   \n",
       "13        x13  -0.524758  0.050715 -10.347146  7.776912e-23  0.740643   \n",
       "\n",
       "     adj_r2   CI[2.5%]  CI[97.5%]  \n",
       "0   0.73379  26.432226  46.486751  \n",
       "1   0.73379  -0.172584  -0.043438  \n",
       "2   0.73379   0.019449   0.073392  \n",
       "3   0.73379  -0.100268   0.141385  \n",
       "4   0.73379   0.993904   4.379563  \n",
       "5   0.73379 -25.271634 -10.261589  \n",
       "6   0.73379   2.988727   4.631004  \n",
       "7   0.73379  -0.025262   0.026647  \n",
       "8   0.73379  -1.867455  -1.083679  \n",
       "9   0.73379   0.175692   0.436407  \n",
       "10  0.73379  -0.019723  -0.004946  \n",
       "11  0.73379  -1.209795  -0.695699  \n",
       "12  0.73379   0.004034   0.014589  \n",
       "13  0.73379  -0.624404  -0.425113  "
      ]
     },
     "execution_count": 10,
     "metadata": {},
     "output_type": "execute_result"
    }
   ],
   "source": [
    "pg.linear_regression(X, y)"
   ]
  },
  {
   "cell_type": "markdown",
   "metadata": {},
   "source": [
    "### These Are Some Exmple Of pingouin https://pingouin-stats.org/"
   ]
  }
 ],
 "metadata": {
  "kernelspec": {
   "display_name": "Python 3",
   "language": "python",
   "name": "python3"
  },
  "language_info": {
   "codemirror_mode": {
    "name": "ipython",
    "version": 3
   },
   "file_extension": ".py",
   "mimetype": "text/x-python",
   "name": "python",
   "nbconvert_exporter": "python",
   "pygments_lexer": "ipython3",
   "version": "3.7.6"
  }
 },
 "nbformat": 4,
 "nbformat_minor": 4
}
